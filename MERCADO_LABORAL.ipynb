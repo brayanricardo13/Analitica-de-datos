{
  "nbformat": 4,
  "nbformat_minor": 0,
  "metadata": {
    "colab": {
      "name": "MERCADO LABORAL",
      "provenance": [],
      "collapsed_sections": [],
      "include_colab_link": true
    },
    "kernelspec": {
      "name": "python3",
      "display_name": "Python 3"
    },
    "language_info": {
      "name": "python"
    }
  },
  "cells": [
    {
      "cell_type": "markdown",
      "metadata": {
        "id": "view-in-github",
        "colab_type": "text"
      },
      "source": [
        "<a href=\"https://colab.research.google.com/github/brayanricardo13/Analitica-de-datos/blob/main/MERCADO_LABORAL.ipynb\" target=\"_parent\"><img src=\"https://colab.research.google.com/assets/colab-badge.svg\" alt=\"Open In Colab\"/></a>"
      ]
    },
    {
      "cell_type": "code",
      "source": [
        "from openpyxl import workbook   # leer excel \n",
        "from openpyxl import load_workbook \n",
        "import pandas as pd"
      ],
      "metadata": {
        "id": "lmu5Us19v9su"
      },
      "execution_count": 94,
      "outputs": []
    },
    {
      "cell_type": "code",
      "source": [
        "Mercado_laboral = load_workbook(\"/content/drive/MyDrive/U CENTRAL ECONOMÍA/DOCUMENTOS ADICIONALES/CURSOS/MEDICION ECONOMICA/MERCADO LABORAL/anexo_empleo_may_22.xlsx\") "
      ],
      "metadata": {
        "id": "pdpUOt17v6yK"
      },
      "execution_count": null,
      "outputs": []
    },
    {
      "cell_type": "code",
      "source": [
        "Total_nacional = Mercado_laboral[\"Total nacional\"] "
      ],
      "metadata": {
        "id": "iovBVGzLiz3i"
      },
      "execution_count": 75,
      "outputs": []
    },
    {
      "cell_type": "code",
      "source": [
        "Desempleo = Total_nacional[\"b17:r17\"]\n",
        "Desempleo"
      ],
      "metadata": {
        "id": "mCKZpYC5jK62"
      },
      "execution_count": null,
      "outputs": []
    },
    {
      "cell_type": "code",
      "source": [
        "print(f'{Total_nacional[\"A20\"].value};{Total_nacional[\"r20\"].value}')"
      ],
      "metadata": {
        "colab": {
          "base_uri": "https://localhost:8080/"
        },
        "id": "lwhz4ln-0xUn",
        "outputId": "2699da34-e8ca-4b4a-b99d-083a7fbe67bb"
      },
      "execution_count": 81,
      "outputs": [
        {
          "output_type": "stream",
          "name": "stdout",
          "text": [
            "Población total;50428.727\n"
          ]
        }
      ]
    },
    {
      "cell_type": "code",
      "source": [
        " for row in Total_nacional .iter_rows(min_row=14, max_col=18, max_row=18, min_col=1, values_only=True):\n",
        "   print(row) "
      ],
      "metadata": {
        "colab": {
          "base_uri": "https://localhost:8080/"
        },
        "id": "yADKSd6G5nnE",
        "outputId": "3526b0f9-cfa2-4a60-c5e1-721e380217bc"
      },
      "execution_count": 101,
      "outputs": [
        {
          "output_type": "stream",
          "name": "stdout",
          "text": [
            "('% población en edad de trabajar ', 76.82671694, 76.850686751, 76.872279582, 76.896599213, 76.920191654, 76.944297362, 76.964909691, 76.988998095, 77.01335951, 77.036784926, 77.060527532, 77.083302046, 77.107302185, 77.130448962, 77.151337504, 77.174411165, 77.196676014)\n",
            "('TGP', 60.74821169, 62.514241857, 61.597962759, 61.022233813, 61.449054878, 61.220352326, 61.061853025, 61.318649617, 60.920416479, 62.055766328, 62.188863511, 62.473708913, 62.574484036, 64.164893938, 63.520901377, 63.568107678, 63.77862681)\n",
            "('TO', 50.078841882, 52.771274505, 52.527336603, 51.571089344, 52.106214759, 52.253657359, 53.088076849, 53.43221711, 53.633540542, 54.612027577, 55.016586109, 55.541318136, 53.409042207, 55.884305474, 55.821385198, 56.468525276, 56.987311835)\n",
            "('TD', 17.563265669, 15.585196369, 14.725529465, 15.488034242, 15.204204747, 14.646591578, 13.058523089, 12.861392996, 11.961303547, 11.995241041, 11.533057524, 11.096493065, 14.647251143, 12.905169722, 12.121232557, 11.168465857, 10.648261518)\n",
            "('TS', 7.953771705, 7.437333519, 7.023913121, 7.684889475, 7.922440877, 7.910170126, 7.634504011, 7.817210301, 7.211652069, 7.771424227, 7.44484037, 7.604463229, 7.311709304, 8.843983349, 8.416872295, 8.39634639, 7.97635892)\n"
          ]
        }
      ]
    },
    {
      "cell_type": "code",
      "source": [
        "Total_Nacional_Mensual = row\n",
        "Total_Nacional_Mensual = pd.DataFrame(Total_Nacional_Mensual)\n",
        "print(Total_Nacional_Mensual)"
      ],
      "metadata": {
        "id": "a7UUPRLC6eB0"
      },
      "execution_count": null,
      "outputs": []
    }
  ]
}