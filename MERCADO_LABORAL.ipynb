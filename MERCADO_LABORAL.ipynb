{
  "nbformat": 4,
  "nbformat_minor": 0,
  "metadata": {
    "colab": {
      "name": "MERCADO LABORAL",
      "provenance": [],
      "collapsed_sections": [
        "CLqTJSGXGrnL"
      ],
      "toc_visible": true,
      "include_colab_link": true
    },
    "kernelspec": {
      "name": "python3",
      "display_name": "Python 3"
    },
    "language_info": {
      "name": "python"
    }
  },
  "cells": [
    {
      "cell_type": "markdown",
      "metadata": {
        "id": "view-in-github",
        "colab_type": "text"
      },
      "source": [
        "<a href=\"https://colab.research.google.com/github/brayanricardo13/Analitica-de-datos/blob/main/MERCADO_LABORAL.ipynb\" target=\"_parent\"><img src=\"https://colab.research.google.com/assets/colab-badge.svg\" alt=\"Open In Colab\"/></a>"
      ]
    },
    {
      "cell_type": "code",
      "source": [
        "from openpyxl import workbook   # leer excel \n",
        "from openpyxl import load_workbook \n",
        "import pandas as pd"
      ],
      "metadata": {
        "id": "lmu5Us19v9su"
      },
      "execution_count": null,
      "outputs": []
    },
    {
      "cell_type": "code",
      "source": [
        "from google.colab import drive\n",
        "drive.mount('/content/drive')"
      ],
      "metadata": {
        "id": "fHWRyONyV6Nf"
      },
      "execution_count": null,
      "outputs": []
    },
    {
      "cell_type": "markdown",
      "source": [
        "# **Conexion Drive**"
      ],
      "metadata": {
        "id": "CLqTJSGXGrnL"
      }
    },
    {
      "cell_type": "code",
      "source": [
        "Mercado_laboral = load_workbook(\"/content/drive/MyDrive/U CENTRAL ECONOMÍA/DOCUMENTOS ADICIONALES/CURSOS/MEDICION ECONOMICA/MERCADO LABORAL/anexo_empleo_may_22.xlsx\") "
      ],
      "metadata": {
        "id": "pdpUOt17v6yK"
      },
      "execution_count": null,
      "outputs": []
    },
    {
      "cell_type": "code",
      "source": [
        "Total_nacional = Mercado_laboral[\"Total nacional\"] "
      ],
      "metadata": {
        "id": "iovBVGzLiz3i"
      },
      "execution_count": null,
      "outputs": []
    },
    {
      "cell_type": "code",
      "source": [
        "Desempleo = Total_nacional[\"b17:r17\"]"
      ],
      "metadata": {
        "id": "mCKZpYC5jK62"
      },
      "execution_count": null,
      "outputs": []
    },
    {
      "cell_type": "code",
      "source": [
        "print(f'{Total_nacional[\"A20\"].value};{Total_nacional[\"r20\"].value}')"
      ],
      "metadata": {
        "id": "lwhz4ln-0xUn"
      },
      "execution_count": null,
      "outputs": []
    },
    {
      "cell_type": "markdown",
      "source": [
        "# **Valores**"
      ],
      "metadata": {
        "id": "AVt8vCxXGyJ_"
      }
    },
    {
      "cell_type": "code",
      "source": [
        "for Total in Total_nacional .iter_rows(min_row=14, max_col=18, max_row=18, min_col=1, values_only=True):\n",
        "   print(Total) # row = Filas , Col =  Columnas "
      ],
      "metadata": {
        "id": "SvHpys_4YwqD"
      },
      "execution_count": null,
      "outputs": []
    },
    {
      "cell_type": "code",
      "source": [
        " # población en edad de trabajar\n",
        " for PEA in Total_nacional .iter_rows(min_row=14, max_col=100, max_row=14, min_col=2, values_only=True): \n",
        "    print(PEA) "
      ],
      "metadata": {
        "id": "yADKSd6G5nnE",
        "colab": {
          "base_uri": "https://localhost:8080/"
        },
        "outputId": "a002648f-214b-4367-bdc4-59302bd6104d"
      },
      "execution_count": 39,
      "outputs": [
        {
          "output_type": "stream",
          "name": "stdout",
          "text": [
            "(76.82671694, 76.850686751, 76.872279582, 76.896599213, 76.920191654, 76.944297362, 76.964909691, 76.988998095, 77.01335951, 77.036784926, 77.060527532, 77.083302046, 77.107302185, 77.130448962, 77.151337504, 77.174411165, 77.196676014, None, None, None, None, None, None, None, None, None, None, None, None, None, None, None, None, None, None, None, None, None, None, None, None, None, None, None, None, None, None, None, None, None, None, None, None, None, None, None, None, None, None, None, None, None, None, None, None, None, None, None, None, None, None, None, None, None, None, None, None, None, None, None, None, None, None, None, None, None, None, None, None, None, None, None, None, None, None, None, None, None, None)\n"
          ]
        }
      ]
    },
    {
      "cell_type": "code",
      "source": [
        " for TGP in Total_nacional .iter_rows(min_row=15, max_col=100, max_row=15, min_col=2, values_only=True):\n",
        "   print(TGP) # Tasa Global de participacion "
      ],
      "metadata": {
        "id": "gHlxxmmDYCfT",
        "colab": {
          "base_uri": "https://localhost:8080/"
        },
        "outputId": "acca4550-85c8-4c9f-d475-5a1259c8158b"
      },
      "execution_count": 32,
      "outputs": [
        {
          "output_type": "stream",
          "name": "stdout",
          "text": [
            "('TGP', 60.74821169, 62.514241857, 61.597962759, 61.022233813, 61.449054878, 61.220352326, 61.061853025, 61.318649617, 60.920416479, 62.055766328, 62.188863511, 62.473708913, 62.574484036, 64.164893938, 63.520901377, 63.568107678, 63.77862681, None, None, None, None, None, None, None, None, None, None, None, None, None, None, None, None, None, None, None, None, None, None, None, None, None, None, None, None, None, None, None, None, None, None, None, None, None, None, None, None, None, None, None, None, None, None, None, None, None, None, None, None, None, None, None, None, None, None, None, None, None, None, None, None, None, None, None, None, None, None, None, None, None, None, None, None, None, None, None, None, None, None)\n"
          ]
        }
      ]
    },
    {
      "cell_type": "code",
      "source": [
        " for TO in Total_nacional .iter_rows(min_row=16, max_col=100, max_row=16, min_col=2, values_only=True):\n",
        "   print(TO) # Tasa de Ocupacion "
      ],
      "metadata": {
        "id": "vwqUMkkLYaac"
      },
      "execution_count": null,
      "outputs": []
    },
    {
      "cell_type": "code",
      "source": [
        " for TD in Total_nacional .iter_rows(min_row=17, max_col=100, max_row=17, min_col=2, values_only=True):\n",
        "   print(TD) # Tasa de Desempleo "
      ],
      "metadata": {
        "id": "lMxhL9rRYakS",
        "colab": {
          "base_uri": "https://localhost:8080/"
        },
        "outputId": "fa990322-97d4-47f2-94be-6e27edb82516"
      },
      "execution_count": 49,
      "outputs": [
        {
          "output_type": "stream",
          "name": "stdout",
          "text": [
            "(17.563265669, 15.585196369, 14.725529465, 15.488034242, 15.204204747, 14.646591578, 13.058523089, 12.861392996, 11.961303547, 11.995241041, 11.533057524, 11.096493065, 14.647251143, 12.905169722, 12.121232557, 11.168465857, 10.648261518, None, None, None, None, None, None, None, None, None, None, None, None, None, None, None, None, None, None, None, None, None, None, None, None, None, None, None, None, None, None, None, None, None, None, None, None, None, None, None, None, None, None, None, None, None, None, None, None, None, None, None, None, None, None, None, None, None, None, None, None, None, None, None, None, None, None, None, None, None, None, None, None, None, None, None, None, None, None, None, None, None, None)\n"
          ]
        }
      ]
    },
    {
      "cell_type": "code",
      "source": [
        " for TS in Total_nacional .iter_rows(min_row=18, max_col=100, max_row=18, min_col=2, values_only=True):\n",
        "   print(TS) # Tasa Subocupacion "
      ],
      "metadata": {
        "id": "jcawuDv0YayZ"
      },
      "execution_count": null,
      "outputs": []
    },
    {
      "cell_type": "code",
      "source": [
        "PEA = pd.DataFrame(PEA).dropna() #  Elimanar Celdas Vacias y converir en DATAFRAME \n",
        "PEA.columns = ['PEA']\n",
        "PEA.plot()\n",
        "PEA.head()"
      ],
      "metadata": {
        "id": "a7UUPRLC6eB0"
      },
      "execution_count": null,
      "outputs": []
    },
    {
      "cell_type": "code",
      "source": [
        "TO = pd.DataFrame(TO).dropna() #  Elimanar Celdas Vacias y converir en DATAFRAME \n",
        "TO.columns = ['TOCUPACION']\n",
        "TO.plot()\n",
        "TO.head()"
      ],
      "metadata": {
        "id": "c1Yy-HBYMPAw"
      },
      "execution_count": null,
      "outputs": []
    },
    {
      "cell_type": "code",
      "source": [
        "TD = pd.DataFrame(TD).dropna() #  Elimanar Celdas Vacias y converir en DATAFRAME \n",
        "TD.columns = ['TDESEMPLEO']\n",
        "TD.plot()\n",
        "TD.head()"
      ],
      "metadata": {
        "id": "uuQKHcGpJWh5"
      },
      "execution_count": null,
      "outputs": []
    }
  ]
}