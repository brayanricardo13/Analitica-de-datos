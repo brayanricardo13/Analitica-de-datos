{
  "nbformat": 4,
  "nbformat_minor": 0,
  "metadata": {
    "colab": {
      "name": "MERCADO LABORAL",
      "provenance": [],
      "collapsed_sections": [],
      "include_colab_link": true
    },
    "kernelspec": {
      "name": "python3",
      "display_name": "Python 3"
    },
    "language_info": {
      "name": "python"
    }
  },
  "cells": [
    {
      "cell_type": "markdown",
      "metadata": {
        "id": "view-in-github",
        "colab_type": "text"
      },
      "source": [
        "<a href=\"https://colab.research.google.com/github/brayanricardo13/Analitica-de-datos/blob/main/MERCADO_LABORAL.ipynb\" target=\"_parent\"><img src=\"https://colab.research.google.com/assets/colab-badge.svg\" alt=\"Open In Colab\"/></a>"
      ]
    },
    {
      "cell_type": "code",
      "source": [
        "from openpyxl import workbook   # leer excel \n",
        "from openpyxl import load_workbook \n",
        "import pandas as pd"
      ],
      "metadata": {
        "id": "lmu5Us19v9su"
      },
      "execution_count": 1,
      "outputs": []
    },
    {
      "cell_type": "code",
      "source": [
        "from google.colab import drive\n",
        "drive.mount('/content/drive')"
      ],
      "metadata": {
        "id": "fHWRyONyV6Nf",
        "colab": {
          "base_uri": "https://localhost:8080/"
        },
        "outputId": "00fae598-f04d-4be7-c034-240cce8bf42d"
      },
      "execution_count": 8,
      "outputs": [
        {
          "output_type": "stream",
          "name": "stdout",
          "text": [
            "Mounted at /content/drive\n"
          ]
        }
      ]
    },
    {
      "cell_type": "code",
      "source": [
        "Mercado_laboral = load_workbook(\"/content/drive/MyDrive/U CENTRAL ECONOMÍA/DOCUMENTOS ADICIONALES/CURSOS/MEDICION ECONOMICA/MERCADO LABORAL/anexo_empleo_may_22.xlsx\") "
      ],
      "metadata": {
        "id": "pdpUOt17v6yK",
        "colab": {
          "base_uri": "https://localhost:8080/"
        },
        "outputId": "34554e41-80d4-4cab-d6a1-368f781e0fb7"
      },
      "execution_count": 9,
      "outputs": [
        {
          "output_type": "stream",
          "name": "stderr",
          "text": [
            "/usr/local/lib/python3.7/dist-packages/openpyxl/reader/drawings.py:59: UserWarning: wmf image format is not supported so the image is being dropped\n",
            "  warn(msg)\n"
          ]
        }
      ]
    },
    {
      "cell_type": "code",
      "source": [
        "Total_nacional = Mercado_laboral[\"Total nacional\"] "
      ],
      "metadata": {
        "id": "iovBVGzLiz3i"
      },
      "execution_count": 10,
      "outputs": []
    },
    {
      "cell_type": "code",
      "source": [
        "Desempleo = Total_nacional[\"b17:r17\"]"
      ],
      "metadata": {
        "id": "mCKZpYC5jK62"
      },
      "execution_count": null,
      "outputs": []
    },
    {
      "cell_type": "code",
      "source": [
        "print(f'{Total_nacional[\"A20\"].value};{Total_nacional[\"r20\"].value}')"
      ],
      "metadata": {
        "id": "lwhz4ln-0xUn"
      },
      "execution_count": null,
      "outputs": []
    },
    {
      "cell_type": "code",
      "source": [
        "for Total in Total_nacional .iter_rows(min_row=14, max_col=18, max_row=18, min_col=1, values_only=True):\n",
        "   print(Total) "
      ],
      "metadata": {
        "colab": {
          "base_uri": "https://localhost:8080/"
        },
        "id": "SvHpys_4YwqD",
        "outputId": "f4ea3a13-bd5c-4d52-cfc3-cfbd54ce5acd"
      },
      "execution_count": 22,
      "outputs": [
        {
          "output_type": "stream",
          "name": "stdout",
          "text": [
            "('% población en edad de trabajar ', 76.82671694, 76.850686751, 76.872279582, 76.896599213, 76.920191654, 76.944297362, 76.964909691, 76.988998095, 77.01335951, 77.036784926, 77.060527532, 77.083302046, 77.107302185, 77.130448962, 77.151337504, 77.174411165, 77.196676014)\n",
            "('TGP', 60.74821169, 62.514241857, 61.597962759, 61.022233813, 61.449054878, 61.220352326, 61.061853025, 61.318649617, 60.920416479, 62.055766328, 62.188863511, 62.473708913, 62.574484036, 64.164893938, 63.520901377, 63.568107678, 63.77862681)\n",
            "('TO', 50.078841882, 52.771274505, 52.527336603, 51.571089344, 52.106214759, 52.253657359, 53.088076849, 53.43221711, 53.633540542, 54.612027577, 55.016586109, 55.541318136, 53.409042207, 55.884305474, 55.821385198, 56.468525276, 56.987311835)\n",
            "('TD', 17.563265669, 15.585196369, 14.725529465, 15.488034242, 15.204204747, 14.646591578, 13.058523089, 12.861392996, 11.961303547, 11.995241041, 11.533057524, 11.096493065, 14.647251143, 12.905169722, 12.121232557, 11.168465857, 10.648261518)\n",
            "('TS', 7.953771705, 7.437333519, 7.023913121, 7.684889475, 7.922440877, 7.910170126, 7.634504011, 7.817210301, 7.211652069, 7.771424227, 7.44484037, 7.604463229, 7.311709304, 8.843983349, 8.416872295, 8.39634639, 7.97635892)\n"
          ]
        }
      ]
    },
    {
      "cell_type": "code",
      "source": [
        " for PEA in Total_nacional .iter_rows(min_row=14, max_col=18, max_row=14, min_col=1, values_only=True):\n",
        "   print(PEA) "
      ],
      "metadata": {
        "id": "yADKSd6G5nnE"
      },
      "execution_count": null,
      "outputs": []
    },
    {
      "cell_type": "code",
      "source": [
        " for TGP in Total_nacional .iter_rows(min_row=15, max_col=18, max_row=15, min_col=1, values_only=True):\n",
        "   print(TGP) "
      ],
      "metadata": {
        "id": "gHlxxmmDYCfT"
      },
      "execution_count": null,
      "outputs": []
    },
    {
      "cell_type": "code",
      "source": [
        " for TO in Total_nacional .iter_rows(min_row=16, max_col=18, max_row=16, min_col=1, values_only=True):\n",
        "   print(TO) "
      ],
      "metadata": {
        "id": "vwqUMkkLYaac"
      },
      "execution_count": null,
      "outputs": []
    },
    {
      "cell_type": "code",
      "source": [
        " for TD in Total_nacional .iter_rows(min_row=17, max_col=18, max_row=17, min_col=1, values_only=True):\n",
        "   print(TD) "
      ],
      "metadata": {
        "id": "lMxhL9rRYakS"
      },
      "execution_count": null,
      "outputs": []
    },
    {
      "cell_type": "code",
      "source": [
        " for TS in Total_nacional .iter_rows(min_row=18, max_col=18, max_row=18, min_col=1, values_only=True):\n",
        "   print(TS) "
      ],
      "metadata": {
        "id": "jcawuDv0YayZ"
      },
      "execution_count": null,
      "outputs": []
    },
    {
      "cell_type": "code",
      "source": [
        "PEA = pd.DataFrame(PEA)\n",
        "print(PEA)"
      ],
      "metadata": {
        "id": "a7UUPRLC6eB0",
        "colab": {
          "base_uri": "https://localhost:8080/"
        },
        "outputId": "67239631-f676-41b6-b687-465ae2880de5"
      },
      "execution_count": 34,
      "outputs": [
        {
          "output_type": "stream",
          "name": "stdout",
          "text": [
            "                                   0\n",
            "0   % población en edad de trabajar \n",
            "1                          76.826717\n",
            "2                          76.850687\n",
            "3                           76.87228\n",
            "4                          76.896599\n",
            "5                          76.920192\n",
            "6                          76.944297\n",
            "7                           76.96491\n",
            "8                          76.988998\n",
            "9                           77.01336\n",
            "10                         77.036785\n",
            "11                         77.060528\n",
            "12                         77.083302\n",
            "13                         77.107302\n",
            "14                         77.130449\n",
            "15                         77.151338\n",
            "16                         77.174411\n",
            "17                         77.196676\n"
          ]
        }
      ]
    }
  ]
}