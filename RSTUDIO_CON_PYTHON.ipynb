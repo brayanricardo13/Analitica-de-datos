{
  "nbformat": 4,
  "nbformat_minor": 0,
  "metadata": {
    "colab": {
      "name": "RSTUDIO CON PYTHON",
      "provenance": [],
      "collapsed_sections": [],
      "authorship_tag": "ABX9TyOvhc+pcO1i1DYxSRasRD2y",
      "include_colab_link": true
    },
    "kernelspec": {
      "name": "python3",
      "display_name": "Python 3"
    },
    "language_info": {
      "name": "python"
    }
  },
  "cells": [
    {
      "cell_type": "markdown",
      "metadata": {
        "id": "view-in-github",
        "colab_type": "text"
      },
      "source": [
        "<a href=\"https://colab.research.google.com/github/brayanricardo13/Analitica-de-datos/blob/main/RSTUDIO_CON_PYTHON.ipynb\" target=\"_parent\"><img src=\"https://colab.research.google.com/assets/colab-badge.svg\" alt=\"Open In Colab\"/></a>"
      ]
    },
    {
      "cell_type": "code",
      "source": [
        "%load_ext rpy2.ipython"
      ],
      "metadata": {
        "id": "cn5PvRFCTHHS"
      },
      "execution_count": null,
      "outputs": []
    },
    {
      "cell_type": "code",
      "execution_count": null,
      "metadata": {
        "id": "_WI__fNqSQfb"
      },
      "outputs": [],
      "source": [
        "%%R\n",
        "install.packages(\"tseries\")\n",
        "install.packages(\"timeSeries\")\n",
        "library(tseries)\n",
        "library(timeSeries)"
      ]
    },
    {
      "cell_type": "code",
      "source": [
        "%%R\n",
        "Port<-c('AAPL','MSFT','AMZN')\n",
        "## Metodo (for)\n",
        "M <- length(get.hist.quote('AMZN', quote = 'AdjClose', start =as.Date('2021-01-01'), compression='d'))\n",
        "N <- length(Port)\n",
        "data1 <- matrix(rep(0,M*N),M,N)\n",
        "for (i in 1:N){\n",
        "  data1[,i]= c(get.hist.quote(Port[i], start=as.Date('2021-01-01'), quote ='AdjClose', compression='d'))\n",
        "}"
      ],
      "metadata": {
        "id": "P8kLLkohUV3j"
      },
      "execution_count": null,
      "outputs": []
    },
    {
      "cell_type": "code",
      "source": [
        "%%R\n",
        "# Retornos\n",
        "r.data1 <- returns0(data1)\n",
        "r.data1 <- na.omit(r.data1[-1,])\n",
        "## Portafolio de min varianza sin restricciones\n",
        "uno <- matrix(rep(1,N),N,1) #generemos un vector de unos\n",
        "mu <- apply(r.data1, 2 , mean) # calculamos el promedio de los retornos\n",
        "# mediante la funcion apply (promedio de cada activo)\n",
        "mu<-as.matrix(mu)  # lo fijamos como una matriz\n",
        "mu # vemos los retornos esperados (promedios) individuales\n",
        "sigma <- var(r.data1) # matriz de covarianzas\n",
        "sigma # se muestra la matriz de varianzas-covarianzas\n",
        "A<-solve(sigma)%*%uno\n",
        "B<-as.numeric(t(uno)%*%solve(sigma)%*%uno)\n",
        "min<-A/B\n",
        "min"
      ],
      "metadata": {
        "colab": {
          "base_uri": "https://localhost:8080/"
        },
        "id": "XrYt4fYGU4s_",
        "outputId": "db2e4772-ebf9-4777-cdd6-c9522771d9d7"
      },
      "execution_count": null,
      "outputs": [
        {
          "output_type": "stream",
          "name": "stdout",
          "text": [
            "          [,1]\n",
            "[1,] 0.3160641\n",
            "[2,] 0.5372099\n",
            "[3,] 0.1467260\n"
          ]
        }
      ]
    },
    {
      "cell_type": "code",
      "source": [
        "%%R\n",
        "## FUNCION VAR\n",
        "VaR <- function(returnVector, prob=.05,\n",
        "                notional=1, digits=2)\n",
        "{\n",
        "  if(prob > .5)\n",
        "    prob <- 1 - prob\n",
        "  ans <- quantile(returnVector, prob) * notional\n",
        "  signif(ans, digits=digits)\n",
        "}\n",
        "### FUNCION TVAR\n",
        "TVar <- function(returnVector, prob=.05,\n",
        "                 notional=1, digits=2)\n",
        "{\n",
        "  if(prob > .5) prob <- 1 - prob\n",
        "  v <- quantile(returnVector, prob)\n",
        "  ans <- mean(returnVector[returnVector <= v]) *\n",
        "    notional\n",
        "  signif(ans, digits=digits)\n",
        "}\n",
        "### CALCULO DE LAS MEDIDAS INDIVIDUALES\n",
        "Var1 <- VaR(r.data1[,1], prob = 0.05, notional = 1250000, digits = 6)\n",
        "### este es el VaR de la primera accion APPLE\n",
        "Var2 <- VaR(r.data1[,2], prob = 0.05, notional = 1250000, digits = 6)\n",
        "Var3 <- VaR(r.data1[,3], prob = 0.05, notional = 1250000, digits = 6)\n",
        "### Calculamos el Var del port de Markowitz\n",
        "min[1]*Var1+min[2]*Var2+min[3]*Var3\n",
        "### Calculamos el Var del port uniforme\n",
        "mean(Var1,Var2,Var3)"
      ],
      "metadata": {
        "colab": {
          "base_uri": "https://localhost:8080/"
        },
        "id": "ce8KEHgDVEeg",
        "outputId": "8da71744-e4d6-4b18-9d70-4537b62fe08f"
      },
      "execution_count": null,
      "outputs": [
        {
          "output_type": "stream",
          "name": "stdout",
          "text": [
            "[1] -32679.2\n"
          ]
        }
      ]
    }
  ]
}